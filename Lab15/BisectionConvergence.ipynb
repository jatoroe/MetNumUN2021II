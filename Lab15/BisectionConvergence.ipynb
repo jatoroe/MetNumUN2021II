{
  "nbformat": 4,
  "nbformat_minor": 0,
  "metadata": {
    "colab": {
      "name": "BisectionConvergence.ipynb",
      "provenance": [],
      "collapsed_sections": []
    },
    "kernelspec": {
      "name": "python3",
      "display_name": "Python 3"
    }
  },
  "cells": [
    {
      "cell_type": "markdown",
      "metadata": {
        "id": "view-in-github"
      },
      "source": [
        "<a href=\"https://colab.research.google.com/github/jubedoyag/MetNumUN2021II/blob/main/Lab15/BisectionConvergence.ipynb\" target=\"_parent\"><img src=\"https://colab.research.google.com/assets/colab-badge.svg\" alt=\"Open In Colab\"/></a>"
      ]
    },
    {
      "cell_type": "code",
      "metadata": {
        "id": "2TyCyWKZrFqE"
      },
      "source": [
        "import matplotlib.pyplot as plt\n",
        "import numpy as np"
      ],
      "execution_count": 1,
      "outputs": []
    },
    {
      "cell_type": "code",
      "metadata": {
        "id": "BNESTRW1rE3v",
        "outputId": "308b6f85-5a2a-4493-dcba-6bb1dcb938ac",
        "colab": {
          "base_uri": "https://localhost:8080/",
          "height": 281
        }
      },
      "source": [
        "extent = 0.0, 4.0, 0.0, 4.0 \n",
        "   \n",
        "width = 400\n",
        "height= 400\n",
        "pixels = np.full((width,height,3),0)\n",
        "for i in range(width):\n",
        "  for j in range(height):\n",
        "    if (j>i+100): \n",
        "      pixels[height-j-1,i,0] = pixels[height-j-1,i,1] = pixels[height-j-1,i,2] = 255\n",
        "      #print(i,j)\n",
        "\n",
        "plt.title('bisection_convergence')\n",
        "plt.imshow(pixels,extent = extent)\n",
        "plt.show()"
      ],
      "execution_count": 2,
      "outputs": [
        {
          "output_type": "display_data",
          "data": {
            "image/png": "[encoded data removed]",
            "text/plain": [
              "<Figure size 432x288 with 1 Axes>"
            ]
          },
          "metadata": {
            "needs_background": "light"
          }
        }
      ]
    },
    {
      "cell_type": "markdown",
      "source": [
        "# f(x) = (x-1) *(x-2) *(x-3)*(x-4) for x in [0.5)"
      ],
      "metadata": {
        "id": "DFIdjCPo9AfB"
      }
    },
    {
      "cell_type": "code",
      "metadata": {
        "id": "YHJvkN4Anqac",
        "outputId": "6b11e555-cefa-4f89-988f-6676400cf724",
        "colab": {
          "base_uri": "https://localhost:8080/",
          "height": 312
        }
      },
      "source": [
        "def func(x): \n",
        "    return (x-1)*(x-2)*(x-3)*(x-4)\n",
        "\n",
        "\n",
        "x = np.linspace(0.0,5.0,100)\n",
        "fig, ax = plt.subplots()\n",
        "ax.plot(x,func(x))\n",
        "ax.axhline(y=0, color='k')\n",
        "ax.axvline(x=0, color='k')\n",
        "ax.grid(True, which='both')\n",
        "plt.title('f(x) = (x-1)(x-2)(x-3)(x-4)')\n",
        "plt.xlabel('x')\n",
        "plt.ylabel('f(x)')\n"
      ],
      "execution_count": 19,
      "outputs": [
        {
          "output_type": "execute_result",
          "data": {
            "text/plain": [
              "Text(0, 0.5, 'f(x)')"
            ]
          },
          "metadata": {},
          "execution_count": 19
        },
        {
          "output_type": "display_data",
          "data": {
            "image/png": "[encoded data removed]",
            "text/plain": [
              "<Figure size 432x288 with 1 Axes>"
            ]
          },
          "metadata": {
            "needs_background": "light"
          }
        }
      ]
    },
    {
      "cell_type": "code",
      "source": [
        "width = height = 80\n",
        "xi=0.0\n",
        "xf=5.0\n",
        "eps = 1e-3\n",
        "mxiter = 1e4\n",
        "\n",
        "pixels = np.full((width,height,3),0)\n",
        "# roots\n",
        "r1 = 1\n",
        "r2 = 2\n",
        "r3 = 3\n",
        "r4 = 4\n",
        "   \n",
        "multcol = 9\n",
        "\n",
        "for i in range(height):\n",
        "            \n",
        "            aa =   float(xi + (i * (xf-xi) /height))\n",
        "            \n",
        "            for j in range(width):\n",
        "                bb= float(xi + (j* (xf-xi)/ width))\n",
        "\n",
        "                a = aa\n",
        "                b = bb\n",
        "\n",
        "                c=a\n",
        "                iter = 0\n",
        "                \n",
        "                while ((b-a) >= eps and (func(a) * func(b) <= 0)): \n",
        "                   \n",
        "                    # Check if a is root \n",
        "                    if (func(a) == 0.0): \n",
        "                      c=a\n",
        "                      break\n",
        "\n",
        "                    # Check if b is root \n",
        "                    if (func(b) == 0.0): \n",
        "                      c=b\n",
        "                      break\n",
        "  \n",
        "                    # Find middle point \n",
        "                    c = (a+b)/2\n",
        "    \n",
        "                    # Decide the side to repeat the steps \n",
        "                    if (func(c)*func(a) < 0): \n",
        "                        b = c \n",
        "                    else: \n",
        "                        a = c \n",
        "                    \n",
        "                    iter = iter + 1\n",
        "                    \n",
        "                    if (iter > mxiter):\n",
        "                     break\n",
        "\n",
        "                # Pixels colored using the roots\n",
        "                if abs(c-r1)<eps:\n",
        "                    # color red\n",
        "                    pixels[height-j-1,i] = (255 - iter*multcol, 0, 0)\n",
        "                elif abs(c-r2)<=eps:\n",
        "                    # color green\n",
        "                    pixels[height-j-1,i] = (0, 255 - iter*multcol, 0)\n",
        "                elif abs(c-r3)<=eps:\n",
        "                    # color blue\n",
        "                    pixels[height-j-1,i] = (0, 0, 255 - iter*multcol)\n",
        "                elif abs(c-r4)<=eps:\n",
        "                    # color turqoise\n",
        "                    pixels[height-j-1,i] = (0, 255 -iter*multcol, 255 - iter*multcol)\n",
        "                elif (b < a):\n",
        "                    pixels[height-j-1,i] = (255, 255, 0)\n",
        "                elif (func(a) * func(b) >= 0):\n",
        "                    pixels[height-j-1,i] = (255, 255, 255)\n",
        "                else:   \n",
        "                    pixels[height-j-1,i] = (0, 0, 0)\n",
        "\n",
        "                \n",
        "     \n",
        "plt.title('bisection_convergence')\n",
        "plt.xlabel(\"a in (\"+str(xi)+\",\"+str(xf)+\")\")\n",
        "plt.ylabel(\"b in (\"+str(xi)+\",\"+str(xf)+\")\")\n",
        "extent = xi, xf, xi, xf\n",
        "plt.imshow(pixels,extent =extent)\n",
        "plt.show()"
      ],
      "metadata": {
        "colab": {
          "base_uri": "https://localhost:8080/",
          "height": 295
        },
        "id": "A_YImqft_f_Q",
        "outputId": "27732eb1-3f00-4ac5-fe50-84497a9e4414"
      },
      "execution_count": 21,
      "outputs": [
        {
          "output_type": "display_data",
          "data": {
            "image/png": "[encoded data removed]",
            "text/plain": [
              "<Figure size 432x288 with 1 Axes>"
            ]
          },
          "metadata": {
            "needs_background": "light"
          }
        }
      ]
    },
    {
      "cell_type": "markdown",
      "source": [
        "# Descripción de Convergencia en Intervalos\n",
        "Describe the regions where starting intervals (a,b) converge and to which root does it converge. Also which regions do not converge and why.\n",
        "\n",
        "<hr>\n",
        "\n",
        "### Región Amarilla:\n",
        "$b < a$\n",
        "\n",
        "Desigualdad se debe cumplir para que $b-a >= eps$ y se realicen las iteraciones.\n",
        "<hr>\n",
        "\n",
        "## Regiones donde $f(a)*f(b)<0$\n",
        "\n",
        "### Región Roja (Raiz 1):\n",
        "$a \\in [0,1]$ $b \\in [1,2]$\n",
        "\n",
        "$a \\in [0,1]$ $b \\in [3,4]$ $a < -b + 4$\n",
        "\n",
        "### Región Verde (Raiz 2):\n",
        "$a \\in [1,2]$ $b \\in [2,3]$\n",
        "\n",
        "$a \\in [0,1]$ $b \\in [3,4]$ $a = -b + 4$\n",
        "\n",
        "$a \\in [1,2]$ $b \\in [4,5]$ $a < -b + 6$\n",
        "\n",
        "### Región Azul (Raiz 3):\n",
        "$a \\in [2,3]$ $b \\in [3,4]$\n",
        "\n",
        "$a \\in [0,1]$ $b \\in [3,4]$ $a > -b + 4$\n",
        "\n",
        "$a \\in [1,2]$ $b \\in [4,5]$ $a = -b + 6$\n",
        "\n",
        "### Región Turquesa (Raiz 4):\n",
        "$a \\in [3,4]$ $b \\in [4,5]$\n",
        "\n",
        "$a \\in [1,2]$ $b \\in [4,5]$ $a > -b + 6$\n",
        "\n"
      ],
      "metadata": {
        "id": "WHBh1JNqBizJ"
      }
    },
    {
      "cell_type": "code",
      "source": [
        "width = height = 320\n",
        "xi=-6.0\n",
        "xf=10.0\n",
        "eps = 1e-3\n",
        "mxiter = 1e4\n",
        "\n",
        "pixels = np.full((width,height,3),0)\n",
        "# roots\n",
        "r1 = 1\n",
        "r2 = 2\n",
        "r3 = 3\n",
        "r4 = 4\n",
        "   \n",
        "multcol = 5\n",
        "\n",
        "for i in range(height):\n",
        "            \n",
        "            aa =   float(xi + (i * (xf-xi) /height))\n",
        "            \n",
        "            for j in range(width):\n",
        "                bb= float(xi + (j* (xf-xi)/ width))\n",
        "\n",
        "                a = aa\n",
        "                b = bb\n",
        "                c=a\n",
        "                iter = 0\n",
        "                \n",
        "                while ((b-a) >= eps and (func(a) * func(b) <= 0)): \n",
        "                   \n",
        "                    # Check if a is root \n",
        "                    if (func(a) == 0.0): \n",
        "                      c=a\n",
        "                      break\n",
        "\n",
        "                    # Check if b is root \n",
        "                    if (func(b) == 0.0): \n",
        "                      c=b\n",
        "                      break\n",
        "  \n",
        "                    # Find middle point \n",
        "                    c = (a+b)/2\n",
        "    \n",
        "                    # Decide the side to repeat the steps \n",
        "                    if (func(c)*func(a) < 0): \n",
        "                        b = c \n",
        "                    else: \n",
        "                        a = c \n",
        "                    \n",
        "                    iter = iter + 1\n",
        "                    \n",
        "                    if (iter > mxiter):\n",
        "                     break\n",
        "\n",
        "                # Pixels colored using the roots\n",
        "                if abs(c-r1)<eps:\n",
        "                    # color red\n",
        "                    pixels[height-j-1,i] = (255 - iter*multcol, 0, 0)\n",
        "                elif abs(c-r2)<=eps:\n",
        "                    # color green\n",
        "                    pixels[height-j-1,i] = (0, 255 - iter*multcol, 0)\n",
        "                elif abs(c-r3)<=eps:\n",
        "                    # color blue\n",
        "                    pixels[height-j-1,i] = (0, 0, 255 - iter*multcol)\n",
        "                elif abs(c-r4)<=eps:\n",
        "                    # color turqoise\n",
        "                    pixels[height-j-1,i] = (0, 255 -iter*multcol, 255 - iter*multcol)\n",
        "                elif (b < a):\n",
        "                    pixels[height-j-1,i] = (255, 255, 0)\n",
        "                elif (func(a) * func(b) >= 0):\n",
        "                    pixels[height-j-1,i] = (255, 255, 255)\n",
        "                else:   \n",
        "                    pixels[height-j-1,i] = (0, 0, 0)\n",
        "\n",
        "plt.title('bisection_convergence')\n",
        "plt.xlabel(\"a in (\"+str(xi)+\",\"+str(xf)+\")\")\n",
        "plt.ylabel(\"b in (\"+str(xi)+\",\"+str(xf)+\")\")\n",
        "extent = xi, xf, xi, xf\n",
        "plt.imshow(pixels,extent =extent)\n",
        "plt.show()"
      ],
      "metadata": {
        "colab": {
          "base_uri": "https://localhost:8080/",
          "height": 295
        },
        "id": "eeHEoAlV_pU4",
        "outputId": "8341b528-4c16-4247-cb91-555880129f6b"
      },
      "execution_count": 17,
      "outputs": [
        {
          "output_type": "display_data",
          "data": {
            "image/png": "[encoded data removed]",
            "text/plain": [
              "<Figure size 432x288 with 1 Axes>"
            ]
          },
          "metadata": {
            "needs_background": "light"
          }
        }
      ]
    }
  ]
}