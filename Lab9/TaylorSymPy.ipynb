{
  "nbformat": 4,
  "nbformat_minor": 0,
  "metadata": {
    "colab": {
      "name": "TaylorSymPy.ipynb",
      "provenance": [],
      "collapsed_sections": []
    },
    "kernelspec": {
      "name": "python3",
      "display_name": "Python 3"
    },
    "language_info": {
      "name": "python"
    }
  },
  "cells": [
    {
      "cell_type": "markdown",
      "metadata": {
        "id": "L7h6aPeNOc_p"
      },
      "source": [
        "Taylor Series Expansion with Python from Data Science Fabric \n",
        "\n",
        "https://dsfabric.org/taylor-series-expansion-with-python"
      ]
    },
    {
      "cell_type": "code",
      "metadata": {
        "id": "bvdPNIdZOYeH"
      },
      "source": [
        "from sympy import series, Symbol, pi, E\n",
        "from sympy.functions import  cos, exp, sin, ln\n",
        "from sympy.plotting import plot\n",
        "import matplotlib.pyplot as plt"
      ],
      "execution_count": 45,
      "outputs": []
    },
    {
      "cell_type": "code",
      "metadata": {
        "id": "o7S1pvB8OfzJ"
      },
      "source": [
        "# Define symbol\n",
        "x = Symbol('x')"
      ],
      "execution_count": 27,
      "outputs": []
    },
    {
      "cell_type": "code",
      "metadata": {
        "id": "WbzChBNdOhsJ"
      },
      "source": [
        "# Function for Taylor Series Expansion\n",
        "\n",
        "def taylor(function, x0, n):\n",
        "    \"\"\"\n",
        "    Parameter \"function\" is our function which we want to approximate\n",
        "    \"x0\" is the point where to approximate\n",
        "    \"n\" is the order of approximation\n",
        "    \"\"\"\n",
        "    return function.series(x,x0,n)"
      ],
      "execution_count": 28,
      "outputs": []
    },
    {
      "cell_type": "markdown",
      "metadata": {
        "id": "1BUMwQsYG8rC"
      },
      "source": [
        "# Desarrollo Propio: ln(x+1)"
      ]
    },
    {
      "cell_type": "code",
      "metadata": {
        "colab": {
          "base_uri": "https://localhost:8080/"
        },
        "id": "TR7ayXImG8rM",
        "outputId": "1791cee9-155b-4b26-c945-8260f5f18f71"
      },
      "source": [
        "print('ln(x+1) ≅', taylor(ln(x+1), 0, 8))"
      ],
      "execution_count": null,
      "outputs": [
        {
          "output_type": "stream",
          "name": "stdout",
          "text": [
            "ln(x+1) ≅ x**7/7 - x**6/6 + x**5/5 - x**4/4 + x**3/3 - x**2/2 + x\n"
          ]
        }
      ]
    },
    {
      "cell_type": "code",
      "metadata": {
        "colab": {
          "base_uri": "https://localhost:8080/"
        },
        "id": "vIyoVobRG8rM",
        "outputId": "4c6702c5-ae79-4d5d-a7d5-b9340aa0a18a"
      },
      "source": [
        "print('ln(x+1) ≅', taylor(ln(x+1), E, 8))"
      ],
      "execution_count": null,
      "outputs": [
        {
          "output_type": "stream",
          "name": "stdout",
          "text": [
            "ln(x+1) ≅ (x - E)**7/(7*(1 + E)**7) - (x - E)**6/(6*(1 + E)**6) + (x - E)**5/(5*(1 + E)**5) - (x - E)**4/(4*(1 + E)**4) + (x - E)**3/(3*(1 + E)**3) - (x - E)**2/(2*(1 + E)**2) + (x - E)/(1 + E) + log(1 + E)\n"
          ]
        }
      ]
    },
    {
      "cell_type": "code",
      "metadata": {
        "colab": {
          "base_uri": "https://localhost:8080/"
        },
        "id": "1lNc7pXCG8rM",
        "outputId": "756f2a6c-e81f-4fb0-c0dc-53351fb66684"
      },
      "source": [
        "print('ln(1+1) =', taylor(ln(x+1), 0, 4).subs(x,1))"
      ],
      "execution_count": null,
      "outputs": [
        {
          "output_type": "stream",
          "name": "stdout",
          "text": [
            "ln(1+1) = 5/6\n"
          ]
        }
      ]
    },
    {
      "cell_type": "code",
      "metadata": {
        "colab": {
          "base_uri": "https://localhost:8080/"
        },
        "id": "vEe29bHeG8rM",
        "outputId": "0b2ff55e-cdb6-42c8-d97b-45afb218e92f"
      },
      "source": [
        "print('Taylor 0 ln(x+1) ≅', taylor(ln(x+1), 0, 0))\n",
        "print('Taylor 1 ln(x+1) ≅', taylor(ln(x+1), 0, 1))\n",
        "print('Taylor 2 ln(x+1) ≅', taylor(ln(x+1), 0, 2))\n",
        "print('Taylor 3 ln(x+1) ≅', taylor(ln(x+1), 0, 3))\n",
        "print('Taylor 4 ln(x+1) ≅', taylor(ln(x+1), 0, 4))\n",
        "print('Taylor 5 ln(x+1) ≅', taylor(ln(x+1), 0, 5))\n",
        "print('Taylor 6 ln(x+1) ≅', taylor(ln(x+1), 0, 6))\n",
        "print('Taylor 7 ln(x+1) ≅', taylor(ln(x+1), 0, 7))\n",
        "print('Taylor 8 ln(x+1) ≅', taylor(ln(x+1), 0, 8))"
      ],
      "execution_count": null,
      "outputs": [
        {
          "output_type": "stream",
          "name": "stdout",
          "text": [
            "Taylor 0 ln(x+1) ≅ 0\n",
            "Taylor 1 ln(x+1) ≅ 0\n",
            "Taylor 2 ln(x+1) ≅ x\n",
            "Taylor 3 ln(x+1) ≅ -x**2/2 + x\n",
            "Taylor 4 ln(x+1) ≅ x**3/3 - x**2/2 + x\n",
            "Taylor 5 ln(x+1) ≅ -x**4/4 + x**3/3 - x**2/2 + x\n",
            "Taylor 6 ln(x+1) ≅ x**5/5 - x**4/4 + x**3/3 - x**2/2 + x\n",
            "Taylor 7 ln(x+1) ≅ -x**6/6 + x**5/5 - x**4/4 + x**3/3 - x**2/2 + x\n",
            "Taylor 8 ln(x+1) ≅ x**7/7 - x**6/6 + x**5/5 - x**4/4 + x**3/3 - x**2/2 + x\n"
          ]
        }
      ]
    },
    {
      "cell_type": "code",
      "metadata": {
        "colab": {
          "base_uri": "https://localhost:8080/"
        },
        "id": "6LkMLqjgG8rN",
        "outputId": "bc83c483-ed32-473a-af51-ef8e40126cdb"
      },
      "source": [
        "print('Taylor 0 ln(x+1) ≅', taylor(ln(x+1), 0, 0).subs(x,2),' = ',taylor(ln(x+1), 0, 0).subs(x,2).evalf())\n",
        "print('Taylor 1 ln(x+1) ≅', taylor(ln(x+1), 0, 1).subs(x,2),' = ',taylor(ln(x+1), 0, 1).subs(x,2).evalf())\n",
        "print('Taylor 2 ln(x+1) ≅', taylor(ln(x+1), 0, 2).subs(x,2),' = ',taylor(ln(x+1), 0, 2).subs(x,2).evalf())\n",
        "print('Taylor 3 ln(x+1) ≅', taylor(ln(x+1), 0, 3).subs(x,2),' = ',taylor(ln(x+1), 0, 3).subs(x,2).evalf())\n",
        "print('Taylor 4 ln(x+1) ≅', taylor(ln(x+1), 0, 4).subs(x,2),' = ',taylor(ln(x+1), 0, 4).subs(x,2).evalf())\n",
        "print('Taylor 5 ln(x+1) ≅', taylor(ln(x+1), 0, 5).subs(x,2),' = ',taylor(ln(x+1), 0, 5).subs(x,2).evalf())\n",
        "print('Taylor 6 ln(x+1) ≅', taylor(ln(x+1), 0, 6).subs(x,2),' = ',taylor(ln(x+1), 0, 6).subs(x,2).evalf())\n",
        "print('Taylor 7 ln(x+1) ≅', taylor(ln(x+1), 0, 8).subs(x,2),' = ',taylor(ln(x+1), 0, 7).subs(x,2).evalf())"
      ],
      "execution_count": null,
      "outputs": [
        {
          "output_type": "stream",
          "name": "stdout",
          "text": [
            "Taylor 0 ln(x+1) ≅ 0  =  0\n",
            "Taylor 1 ln(x+1) ≅ 0  =  0\n",
            "Taylor 2 ln(x+1) ≅ 2  =  2.00000000000000\n",
            "Taylor 3 ln(x+1) ≅ 0  =  0\n",
            "Taylor 4 ln(x+1) ≅ 8/3  =  2.66666666666667\n",
            "Taylor 5 ln(x+1) ≅ -4/3  =  -1.33333333333333\n",
            "Taylor 6 ln(x+1) ≅ 76/15  =  5.06666666666667\n",
            "Taylor 7 ln(x+1) ≅ 444/35  =  -5.60000000000000\n"
          ]
        }
      ]
    },
    {
      "cell_type": "code",
      "metadata": {
        "colab": {
          "base_uri": "https://localhost:8080/"
        },
        "id": "3Y43HEKKG8rN",
        "outputId": "d35416be-a9dd-42ce-b1b9-d7b26c217206"
      },
      "source": [
        "import math\n",
        "print('sympy ln(x+1)subs(x,2) =', ln(x+1).subs(x,2))\n",
        "print('sympy ln(x+1).subs(x,2).evalf() =', ln(x+1).subs(x,2).evalf())\n",
        "print('math.ln(2) =', math.log(2+1))"
      ],
      "execution_count": null,
      "outputs": [
        {
          "output_type": "stream",
          "name": "stdout",
          "text": [
            "sympy ln(x+1)subs(x,2) = log(3)\n",
            "sympy ln(x+1).subs(x,2).evalf() = 1.09861228866811\n",
            "math.ln(2) = 1.0986122886681098\n"
          ]
        }
      ]
    },
    {
      "cell_type": "code",
      "metadata": {
        "colab": {
          "base_uri": "https://localhost:8080/",
          "height": 265
        },
        "id": "7rj70ZZGG8rN",
        "outputId": "565803d2-85a6-427d-e777-bcdd659c7cfd"
      },
      "source": [
        "import math\n",
        "import numpy as np\n",
        "import matplotlib.pyplot as plt\n",
        "# if using a Jupyter notebook, include:\n",
        "%matplotlib inline\n",
        "\n",
        "values = np.arange(0,5,0.1)\n",
        "p_exp = np.log(values+1)\n",
        "t_exp1 = [taylor(ln(x+1), 0, 1).subs(x,v) for v in values]\n",
        "legends = ['ln(x+1) ','Taylor 0 (constant)']\n",
        "\n",
        "fig, ax = plt.subplots()\n",
        "ax.plot(values,p_exp, color ='red')\n",
        "ax.plot(values,t_exp1)\n",
        "\n",
        "ax.set_ylim([-5,5])\n",
        "ax.axhline(y=0.0, xmin=-5.0, xmax=5.0, color='black')\n",
        "ax.axvline(x=0.0, ymin=-10.0, ymax=10.0, color='black')\n",
        "ax.legend(legends)\n",
        "\n",
        "plt.show()"
      ],
      "execution_count": null,
      "outputs": [
        {
          "output_type": "display_data",
          "data": {
            "image/png": "[encoded data removed]",
            "text/plain": [
              "<Figure size 432x288 with 1 Axes>"
            ]
          },
          "metadata": {
            "needs_background": "light"
          }
        }
      ]
    },
    {
      "cell_type": "code",
      "metadata": {
        "colab": {
          "base_uri": "https://localhost:8080/",
          "height": 300
        },
        "id": "0iECqeWSG8rN",
        "outputId": "fa0cb4c6-c5cb-4a8f-e75a-1ef52d0e0f68"
      },
      "source": [
        "import math\n",
        "import numpy as np\n",
        "import matplotlib.pyplot as plt\n",
        "# if using a Jupyter notebook, include:\n",
        "%matplotlib inline\n",
        "\n",
        "values = np.arange(-3,5,0.1)\n",
        "p_exp = np.log(values+1)\n",
        "t_exp2 = [taylor(ln(x+1), 0, 2).subs(x,v) for v in values]\n",
        "legends = ['ln(x+1) ','Taylor 1 (linear)']\n",
        "\n",
        "fig, ax = plt.subplots()\n",
        "ax.plot(values,p_exp, color ='red')\n",
        "ax.plot(values,t_exp2)\n",
        "\n",
        "ax.set_ylim([-5,5])\n",
        "ax.axhline(y=0.0, xmin=-5.0, xmax=5.0, color='black')\n",
        "ax.axvline(x=0.0, ymin=-10.0, ymax=10.0, color='black')\n",
        "ax.legend(legends)\n",
        "\n",
        "plt.show()"
      ],
      "execution_count": null,
      "outputs": [
        {
          "output_type": "stream",
          "name": "stderr",
          "text": [
            "/usr/local/lib/python3.7/dist-packages/ipykernel_launcher.py:8: RuntimeWarning: invalid value encountered in log\n",
            "  \n"
          ]
        },
        {
          "output_type": "display_data",
          "data": {
            "image/png": "[encoded data removed]",
            "text/plain": [
              "<Figure size 432x288 with 1 Axes>"
            ]
          },
          "metadata": {
            "needs_background": "light"
          }
        }
      ]
    },
    {
      "cell_type": "code",
      "metadata": {
        "colab": {
          "base_uri": "https://localhost:8080/",
          "height": 300
        },
        "id": "5-rBGkrLG8rO",
        "outputId": "d8bf1f25-ba4c-44ae-868c-ae2fa089e191"
      },
      "source": [
        "import math\n",
        "import numpy as np\n",
        "import matplotlib.pyplot as plt\n",
        "# if using a Jupyter notebook, include:\n",
        "%matplotlib inline\n",
        "\n",
        "values = np.arange(-3,3,0.1)\n",
        "p_exp = np.log(values+1)\n",
        "t_exp3 = [taylor(ln(x+1), 0, 3).subs(x,v) for v in values]\n",
        "legends = ['ln(x+1) ','Taylor 2 (quadratic)']\n",
        "\n",
        "fig, ax = plt.subplots()\n",
        "ax.plot(values,p_exp, color ='red')\n",
        "ax.plot(values,t_exp3)\n",
        "\n",
        "ax.set_ylim([-5,5])\n",
        "ax.axhline(y=0.0, xmin=-5.0, xmax=5.0, color='black')\n",
        "ax.axvline(x=0.0, ymin=-10.0, ymax=10.0, color='black')\n",
        "ax.legend(legends)\n",
        "\n",
        "plt.show()"
      ],
      "execution_count": null,
      "outputs": [
        {
          "output_type": "stream",
          "name": "stderr",
          "text": [
            "/usr/local/lib/python3.7/dist-packages/ipykernel_launcher.py:8: RuntimeWarning: invalid value encountered in log\n",
            "  \n"
          ]
        },
        {
          "output_type": "display_data",
          "data": {
            "image/png": "[encoded data removed]",
            "text/plain": [
              "<Figure size 432x288 with 1 Axes>"
            ]
          },
          "metadata": {
            "needs_background": "light"
          }
        }
      ]
    },
    {
      "cell_type": "code",
      "metadata": {
        "colab": {
          "base_uri": "https://localhost:8080/",
          "height": 300
        },
        "id": "kmqdjCTrG8rO",
        "outputId": "05b067b8-4d66-419e-c8f5-ce8c0f4f20f9"
      },
      "source": [
        "import math\n",
        "import numpy as np\n",
        "import matplotlib.pyplot as plt\n",
        "# if using a Jupyter notebook, include:\n",
        "%matplotlib inline\n",
        "\n",
        "values = np.arange(-1,3,0.1)\n",
        "p_exp = np.log(values+1)\n",
        "t_exp4 = [taylor(ln(x+1), 0, 4).subs(x,v) for v in values]\n",
        "legends = ['ln(x+1) ','Taylor 3 (cubic)']\n",
        "\n",
        "fig, ax = plt.subplots()\n",
        "ax.plot(values,p_exp, color ='red')\n",
        "ax.plot(values,t_exp4)\n",
        "\n",
        "ax.set_ylim([-5,5])\n",
        "ax.axhline(y=0.0, xmin=-5.0, xmax=5.0, color='black')\n",
        "ax.axvline(x=0.0, ymin=-10.0, ymax=10.0, color='black')\n",
        "ax.legend(legends)\n",
        "\n",
        "plt.show()"
      ],
      "execution_count": null,
      "outputs": [
        {
          "output_type": "stream",
          "name": "stderr",
          "text": [
            "/usr/local/lib/python3.7/dist-packages/ipykernel_launcher.py:8: RuntimeWarning: divide by zero encountered in log\n",
            "  \n"
          ]
        },
        {
          "output_type": "display_data",
          "data": {
            "image/png": "[encoded data removed]",
            "text/plain": [
              "<Figure size 432x288 with 1 Axes>"
            ]
          },
          "metadata": {
            "needs_background": "light"
          }
        }
      ]
    },
    {
      "cell_type": "code",
      "metadata": {
        "colab": {
          "base_uri": "https://localhost:8080/",
          "height": 300
        },
        "id": "iy0Oli0nG8rO",
        "outputId": "b86a4ad3-c3e4-4ded-908a-6934cd0376c4"
      },
      "source": [
        "import math\n",
        "import numpy as np\n",
        "import matplotlib.pyplot as plt\n",
        "# if using a Jupyter notebook, include:\n",
        "%matplotlib inline\n",
        "\n",
        "values = np.arange(-5,5,0.1)\n",
        "p_exp = np.log(values+1)\n",
        "t_exp1 = [taylor(ln(x+1), 0, 1).subs(x,v) for v in values]\n",
        "t_exp2 = [taylor(ln(x+1), 0, 2).subs(x,v) for v in values]\n",
        "t_exp3 = [taylor(ln(x+1), 0, 3).subs(x,v) for v in values]\n",
        "t_exp4 = [taylor(ln(x+1), 0, 4).subs(x,v) for v in values]\n",
        "legends = ['ln(x+1) ','Taylor 0 (constant)','Taylor 1 (linear)','Taylor 2 (quadratic)','Taylor 3 (cubic)']\n",
        "\n",
        "fig, ax = plt.subplots()\n",
        "ax.plot(values,p_exp)\n",
        "ax.plot(values,t_exp1)\n",
        "ax.plot(values,t_exp2)\n",
        "ax.plot(values,t_exp3)\n",
        "ax.plot(values,t_exp4)\n",
        "\n",
        "ax.set_ylim([-5,5])\n",
        "ax.axhline(y=0.0, xmin=-5.0, xmax=5.0, color='black')\n",
        "ax.axvline(x=0.0, ymin=-10.0, ymax=10.0, color='black')\n",
        "ax.legend(legends)\n",
        "\n",
        "plt.show()"
      ],
      "execution_count": null,
      "outputs": [
        {
          "output_type": "stream",
          "name": "stderr",
          "text": [
            "/usr/local/lib/python3.7/dist-packages/ipykernel_launcher.py:8: RuntimeWarning: invalid value encountered in log\n",
            "  \n"
          ]
        },
        {
          "output_type": "display_data",
          "data": {
            "image/png": "[encoded data removed]",
            "text/plain": [
              "<Figure size 432x288 with 1 Axes>"
            ]
          },
          "metadata": {
            "needs_background": "light"
          }
        }
      ]
    },
    {
      "cell_type": "markdown",
      "metadata": {
        "id": "bBZ0bOSc-5Vq"
      },
      "source": [
        "# Desarrollo Propio: sin(x)"
      ]
    },
    {
      "cell_type": "code",
      "metadata": {
        "colab": {
          "base_uri": "https://localhost:8080/"
        },
        "id": "Xs9T9bML-8uR",
        "outputId": "c70d6d34-b845-4a67-88bc-6d5de9090004"
      },
      "source": [
        "print('sin(x) ≅', taylor(sin(x), 0, 8))"
      ],
      "execution_count": 103,
      "outputs": [
        {
          "output_type": "stream",
          "name": "stdout",
          "text": [
            "sin(x) ≅ -x**7/5040 + x**5/120 - x**3/6 + x\n"
          ]
        }
      ]
    },
    {
      "cell_type": "code",
      "metadata": {
        "colab": {
          "base_uri": "https://localhost:8080/"
        },
        "id": "Qvj_VY_U_wKq",
        "outputId": "3c2cf7e2-a24a-4f2f-a2f1-e9d78c0baeff"
      },
      "source": [
        "print('sin(x) ≅', taylor(sin(x), E, 8))"
      ],
      "execution_count": 102,
      "outputs": [
        {
          "output_type": "stream",
          "name": "stdout",
          "text": [
            "sin(x) ≅ -(x - E)**7*cos(E)/5040 - (x - E)**6*sin(E)/720 + (x - E)**5*cos(E)/120 + (x - E)**4*sin(E)/24 - (x - E)**3*cos(E)/6 - (x - E)**2*sin(E)/2 + (x - E)*cos(E) + sin(E)\n"
          ]
        }
      ]
    },
    {
      "cell_type": "code",
      "metadata": {
        "colab": {
          "base_uri": "https://localhost:8080/"
        },
        "id": "bcZd5hPI_1LR",
        "outputId": "1bd018c5-c8a0-416f-f798-d15c11c9bd4e"
      },
      "source": [
        "print('sin(x) =', taylor(sin(x), 0, 4).subs(x,1))"
      ],
      "execution_count": 104,
      "outputs": [
        {
          "output_type": "stream",
          "name": "stdout",
          "text": [
            "sin(x) = 5/6\n"
          ]
        }
      ]
    },
    {
      "cell_type": "code",
      "metadata": {
        "colab": {
          "base_uri": "https://localhost:8080/"
        },
        "id": "aNvv0aO9AMvx",
        "outputId": "c2608429-10ef-4370-e3c2-fce3f61449ef"
      },
      "source": [
        "print('Taylor 0 sin(x) ≅', taylor(sin(x), 0, 0))\n",
        "print('Taylor 1 sin(x) ≅', taylor(sin(x), 0, 1))\n",
        "print('Taylor 2 sin(x) ≅', taylor(sin(x), 0, 2))\n",
        "print('Taylor 3 sin(x) ≅', taylor(sin(x), 0, 3))\n",
        "print('Taylor 4 sin(x) ≅', taylor(sin(x), 0, 4))\n",
        "print('Taylor 5 sin(x) ≅', taylor(sin(x), 0, 5))\n",
        "print('Taylor 6 sin(x) ≅', taylor(sin(x), 0, 6))\n",
        "print('Taylor 7 sin(x) ≅', taylor(sin(x), 0, 7))\n",
        "print('Taylor 8 sin(x) ≅', taylor(sin(x), 0, 8))"
      ],
      "execution_count": 105,
      "outputs": [
        {
          "output_type": "stream",
          "name": "stdout",
          "text": [
            "Taylor 0 sin(x) ≅ 0\n",
            "Taylor 1 sin(x) ≅ 0\n",
            "Taylor 2 sin(x) ≅ x\n",
            "Taylor 3 sin(x) ≅ x\n",
            "Taylor 4 sin(x) ≅ -x**3/6 + x\n",
            "Taylor 5 sin(x) ≅ -x**3/6 + x\n",
            "Taylor 6 sin(x) ≅ x**5/120 - x**3/6 + x\n",
            "Taylor 7 sin(x) ≅ x**5/120 - x**3/6 + x\n",
            "Taylor 8 sin(x) ≅ -x**7/5040 + x**5/120 - x**3/6 + x\n"
          ]
        }
      ]
    },
    {
      "cell_type": "code",
      "metadata": {
        "colab": {
          "base_uri": "https://localhost:8080/"
        },
        "id": "9QQw0o_IAjQq",
        "outputId": "5fd38e41-16f4-46bc-d157-3a846afde6ff"
      },
      "source": [
        "print('Taylor 0 sin(x) ≅', taylor(sin(x), 0, 0).subs(x,2),' = ',taylor(sin(x), 0, 0).subs(x,2).evalf())\n",
        "print('Taylor 1 sin(x) ≅', taylor(sin(x), 0, 1).subs(x,2),' = ',taylor(sin(x), 0, 1).subs(x,2).evalf())\n",
        "print('Taylor 2 sin(x) ≅', taylor(sin(x), 0, 2).subs(x,2),' = ',taylor(sin(x), 0, 2).subs(x,2).evalf())\n",
        "print('Taylor 3 sin(x) ≅', taylor(sin(x), 0, 3).subs(x,2),' = ',taylor(sin(x), 0, 3).subs(x,2).evalf())\n",
        "print('Taylor 4 sin(x) ≅', taylor(sin(x), 0, 4).subs(x,2),' = ',taylor(sin(x), 0, 4).subs(x,2).evalf())\n",
        "print('Taylor 5 sin(x) ≅', taylor(sin(x), 0, 5).subs(x,2),' = ',taylor(sin(x), 0, 5).subs(x,2).evalf())\n",
        "print('Taylor 6 sin(x) ≅', taylor(sin(x), 0, 6).subs(x,2),' = ',taylor(sin(x), 0, 6).subs(x,2).evalf())\n",
        "print('Taylor 7 sin(x) ≅', taylor(sin(x), 0, 8).subs(x,2),' = ',taylor(sin(x), 0, 7).subs(x,2).evalf())"
      ],
      "execution_count": 106,
      "outputs": [
        {
          "output_type": "stream",
          "name": "stdout",
          "text": [
            "Taylor 0 sin(x) ≅ 0  =  0\n",
            "Taylor 1 sin(x) ≅ 0  =  0\n",
            "Taylor 2 sin(x) ≅ 2  =  2.00000000000000\n",
            "Taylor 3 sin(x) ≅ 2  =  2.00000000000000\n",
            "Taylor 4 sin(x) ≅ 2/3  =  0.666666666666667\n",
            "Taylor 5 sin(x) ≅ 2/3  =  0.666666666666667\n",
            "Taylor 6 sin(x) ≅ 14/15  =  0.933333333333333\n",
            "Taylor 7 sin(x) ≅ 286/315  =  0.933333333333333\n"
          ]
        }
      ]
    },
    {
      "cell_type": "code",
      "metadata": {
        "colab": {
          "base_uri": "https://localhost:8080/"
        },
        "id": "jW88dWicBAeJ",
        "outputId": "ba82f501-c655-47b3-bc3e-59bceaf5699a"
      },
      "source": [
        "import math\n",
        "print('sympy sin(x)subs(x,2) =', sin(x).subs(x,2))\n",
        "print('sympy sin(x).subs(x,2).evalf() =', sin(x).subs(x,2).evalf())\n",
        "print('math.sin(2) =', math.sin(2))"
      ],
      "execution_count": 107,
      "outputs": [
        {
          "output_type": "stream",
          "name": "stdout",
          "text": [
            "sympy sin(x)subs(x,2) = sin(2)\n",
            "sympy sin(x).subs(x,2).evalf() = 0.909297426825682\n",
            "math.sin(2) = 0.9092974268256817\n"
          ]
        }
      ]
    },
    {
      "cell_type": "code",
      "metadata": {
        "colab": {
          "base_uri": "https://localhost:8080/",
          "height": 265
        },
        "id": "Kk2ZwiUxBQ9K",
        "outputId": "e1b088e7-64f5-4159-ea92-3159b2f9fb80"
      },
      "source": [
        "import math\n",
        "import numpy as np\n",
        "import matplotlib.pyplot as plt\n",
        "# if using a Jupyter notebook, include:\n",
        "%matplotlib inline\n",
        "\n",
        "values = np.arange(-5,5,0.1)\n",
        "p_exp = np.sin(values)\n",
        "t_exp1 = [taylor(sin(x), 0, 1).subs(x,v) for v in values]\n",
        "legends = ['sin(x) ','Taylor 0 (constant)']\n",
        "\n",
        "fig, ax = plt.subplots()\n",
        "ax.plot(values,p_exp, color ='red')\n",
        "ax.plot(values,t_exp1)\n",
        "\n",
        "ax.set_ylim([-5,5])\n",
        "ax.axhline(y=0.0, xmin=-5.0, xmax=5.0, color='black')\n",
        "ax.axvline(x=0.0, ymin=-10.0, ymax=10.0, color='black')\n",
        "ax.legend(legends)\n",
        "\n",
        "plt.show()"
      ],
      "execution_count": 110,
      "outputs": [
        {
          "output_type": "display_data",
          "data": {
            "image/png": "[encoded data removed]",
            "text/plain": [
              "<Figure size 432x288 with 1 Axes>"
            ]
          },
          "metadata": {
            "needs_background": "light"
          }
        }
      ]
    },
    {
      "cell_type": "code",
      "metadata": {
        "colab": {
          "base_uri": "https://localhost:8080/",
          "height": 265
        },
        "id": "lpMQoUTCCUMq",
        "outputId": "e7ce6d18-dcc6-45c0-952b-3b80481315a4"
      },
      "source": [
        "import math\n",
        "import numpy as np\n",
        "import matplotlib.pyplot as plt\n",
        "# if using a Jupyter notebook, include:\n",
        "%matplotlib inline\n",
        "\n",
        "values = np.arange(-5,5,0.1)\n",
        "p_exp = np.sin(values)\n",
        "t_exp2 = [taylor(sin(x), 0, 2).subs(x,v) for v in values]\n",
        "legends = ['sin(x) ','Taylor 1 (linear)']\n",
        "\n",
        "fig, ax = plt.subplots()\n",
        "ax.plot(values,p_exp, color ='red')\n",
        "ax.plot(values,t_exp2)\n",
        "\n",
        "ax.set_ylim([-5,5])\n",
        "ax.axhline(y=0.0, xmin=-5.0, xmax=5.0, color='black')\n",
        "ax.axvline(x=0.0, ymin=-10.0, ymax=10.0, color='black')\n",
        "ax.legend(legends)\n",
        "\n",
        "plt.show()"
      ],
      "execution_count": 112,
      "outputs": [
        {
          "output_type": "display_data",
          "data": {
            "image/png": "[encoded data removed]",
            "text/plain": [
              "<Figure size 432x288 with 1 Axes>"
            ]
          },
          "metadata": {
            "needs_background": "light"
          }
        }
      ]
    },
    {
      "cell_type": "code",
      "metadata": {
        "colab": {
          "base_uri": "https://localhost:8080/",
          "height": 269
        },
        "id": "ruVH6CYdDAOy",
        "outputId": "aaeaccf2-4a6f-42ad-dd06-08792972c76d"
      },
      "source": [
        "import math\n",
        "import numpy as np\n",
        "import matplotlib.pyplot as plt\n",
        "# if using a Jupyter notebook, include:\n",
        "%matplotlib inline\n",
        "\n",
        "values = np.arange(-5,5,0.1)\n",
        "p_exp = np.sin(values)\n",
        "t_exp3 = [taylor(sin(x), 0, 3).subs(x,v) for v in values]\n",
        "legends = ['sin(x) ','Taylor 2 (quadratic)']\n",
        "\n",
        "fig, ax = plt.subplots()\n",
        "ax.plot(values,p_exp, color ='red')\n",
        "ax.plot(values,t_exp3)\n",
        "\n",
        "ax.set_ylim([-10,10])\n",
        "ax.axhline(y=0.0, xmin=-5.0, xmax=5.0, color='black')\n",
        "ax.axvline(x=0.0, ymin=-10.0, ymax=10.0, color='black')\n",
        "ax.legend(legends)\n",
        "\n",
        "plt.show()"
      ],
      "execution_count": 114,
      "outputs": [
        {
          "output_type": "display_data",
          "data": {
            "image/png": "[encoded data removed]",
            "text/plain": [
              "<Figure size 432x288 with 1 Axes>"
            ]
          },
          "metadata": {
            "needs_background": "light"
          }
        }
      ]
    },
    {
      "cell_type": "code",
      "metadata": {
        "colab": {
          "base_uri": "https://localhost:8080/",
          "height": 265
        },
        "id": "NUPTLFs7DRFZ",
        "outputId": "2134afe9-99a7-4081-abb1-9a5ac3e2965c"
      },
      "source": [
        "import math\n",
        "import numpy as np\n",
        "import matplotlib.pyplot as plt\n",
        "# if using a Jupyter notebook, include:\n",
        "%matplotlib inline\n",
        "\n",
        "values = np.arange(-5,5,0.1)\n",
        "p_exp = np.sin(values)\n",
        "t_exp4 = [taylor(sin(x), 0, 4).subs(x,v) for v in values]\n",
        "legends = ['sin(x) ','Taylor 3 (cubic)']\n",
        "\n",
        "fig, ax = plt.subplots()\n",
        "ax.plot(values,p_exp, color ='red')\n",
        "ax.plot(values,t_exp4)\n",
        "\n",
        "ax.set_ylim([-5,5])\n",
        "ax.axhline(y=0.0, xmin=-5.0, xmax=5.0, color='black')\n",
        "ax.axvline(x=0.0, ymin=-10.0, ymax=10.0, color='black')\n",
        "ax.legend(legends)\n",
        "\n",
        "plt.show()"
      ],
      "execution_count": 115,
      "outputs": [
        {
          "output_type": "display_data",
          "data": {
            "image/png": "[encoded data removed]",
            "text/plain": [
              "<Figure size 432x288 with 1 Axes>"
            ]
          },
          "metadata": {
            "needs_background": "light"
          }
        }
      ]
    },
    {
      "cell_type": "code",
      "metadata": {
        "colab": {
          "base_uri": "https://localhost:8080/",
          "height": 265
        },
        "id": "Nb0tYFL5Dsdq",
        "outputId": "7c8b8ac4-7170-4c84-bea0-90b437e0076a"
      },
      "source": [
        "import math\n",
        "import numpy as np\n",
        "import matplotlib.pyplot as plt\n",
        "# if using a Jupyter notebook, include:\n",
        "%matplotlib inline\n",
        "\n",
        "values = np.arange(-5,5,0.1)\n",
        "p_exp = np.sin(values)\n",
        "t_exp1 = [taylor(sin(x), 0, 1).subs(x,v) for v in values]\n",
        "t_exp2 = [taylor(sin(x), 0, 2).subs(x,v) for v in values]\n",
        "t_exp3 = [taylor(sin(x), 0, 3).subs(x,v) for v in values]\n",
        "t_exp4 = [taylor(sin(x), 0, 4).subs(x,v) for v in values]\n",
        "legends = ['sin(x) ','Taylor 0 (constant)','Taylor 1 (linear)','Taylor 2 (quadratic)','Taylor 3 (cubic)']\n",
        "\n",
        "fig, ax = plt.subplots()\n",
        "ax.plot(values,p_exp)\n",
        "ax.plot(values,t_exp1)\n",
        "ax.plot(values,t_exp2)\n",
        "ax.plot(values,t_exp3)\n",
        "ax.plot(values,t_exp4)\n",
        "\n",
        "ax.set_ylim([-5,5])\n",
        "ax.axhline(y=0.0, xmin=-5.0, xmax=5.0, color='black')\n",
        "ax.axvline(x=0.0, ymin=-10.0, ymax=10.0, color='black')\n",
        "ax.legend(legends)\n",
        "\n",
        "plt.show()"
      ],
      "execution_count": 116,
      "outputs": [
        {
          "output_type": "display_data",
          "data": {
            "image/png": "[encoded data removed]",
            "text/plain": [
              "<Figure size 432x288 with 1 Axes>"
            ]
          },
          "metadata": {
            "needs_background": "light"
          }
        }
      ]
    },
    {
      "cell_type": "markdown",
      "metadata": {
        "id": "nPvFQk1V_mYS"
      },
      "source": [
        "# Expliación Profe (NoteBook Original)"
      ]
    },
    {
      "cell_type": "code",
      "metadata": {
        "colab": {
          "base_uri": "https://localhost:8080/"
        },
        "id": "PkSgrGYeOkzg",
        "outputId": "b1b608ee-9280-4a4d-e9ba-7f939330a021"
      },
      "source": [
        "print('cos(x) ≅', taylor(cos(x), 0, 10))\n",
        "\n",
        "print('e(x) ≅', taylor(exp(x), 0, 8))"
      ],
      "execution_count": 29,
      "outputs": [
        {
          "output_type": "stream",
          "name": "stdout",
          "text": [
            "cos(x) ≅ 1 - x**2/2 + x**4/24 - x**6/720 + x**8/40320 + O(x**10)\n",
            "e(x) ≅ 1 + x + x**2/2 + x**3/6 + x**4/24 + x**5/120 + x**6/720 + x**7/5040 + O(x**8)\n"
          ]
        }
      ]
    },
    {
      "cell_type": "code",
      "metadata": {
        "colab": {
          "base_uri": "https://localhost:8080/"
        },
        "id": "Mfg7kzgUdfY7",
        "outputId": "b9acb216-8f08-4372-c78a-bbd0176d6efd"
      },
      "source": [
        "print('cos(x) ≅', taylor(cos(x), pi/4, 10))\n",
        "\n",
        "print('e(x) ≅', taylor(exp(x), E, 8))"
      ],
      "execution_count": 30,
      "outputs": [
        {
          "output_type": "stream",
          "name": "stdout",
          "text": [
            "cos(x) ≅ sqrt(2)/2 - sqrt(2)*(x - pi/4)/2 - sqrt(2)*(x - pi/4)**2/4 + sqrt(2)*(x - pi/4)**3/12 + sqrt(2)*(x - pi/4)**4/48 - sqrt(2)*(x - pi/4)**5/240 - sqrt(2)*(x - pi/4)**6/1440 + sqrt(2)*(x - pi/4)**7/10080 + sqrt(2)*(x - pi/4)**8/80640 - sqrt(2)*(x - pi/4)**9/725760 + O((x - pi/4)**10, (x, pi/4))\n",
            "e(x) ≅ exp(E) + (x - E)*exp(E) + (x - E)**2*exp(E)/2 + (x - E)**3*exp(E)/6 + (x - E)**4*exp(E)/24 + (x - E)**5*exp(E)/120 + (x - E)**6*exp(E)/720 + (x - E)**7*exp(E)/5040 + O((x - E)**8, (x, E))\n"
          ]
        }
      ]
    },
    {
      "cell_type": "code",
      "metadata": {
        "id": "vH1e_kjw16CT",
        "colab": {
          "base_uri": "https://localhost:8080/"
        },
        "outputId": "e883bdf6-dce3-4021-da00-5face5d296a3"
      },
      "source": [
        "print('cos(1) =', taylor(cos(x), 0, 4).subs(x,1))\n",
        "\n",
        "print('e(1) =', taylor(exp(x), 0, 4).subs(x,1))"
      ],
      "execution_count": 31,
      "outputs": [
        {
          "output_type": "stream",
          "name": "stdout",
          "text": [
            "cos(1) = O(1)\n",
            "e(1) = O(1)\n"
          ]
        }
      ]
    },
    {
      "cell_type": "code",
      "metadata": {
        "id": "UTzLSXhx1YZj"
      },
      "source": [
        "# Function for Taylor Series Expansion\n",
        "\n",
        "def taylor(function, x0, n):\n",
        "    \"\"\"\n",
        "    Parameter \"function\" is our function which we want to approximate\n",
        "    \"x0\" is the point where to approximate\n",
        "    \"n\" is the order of approximation\n",
        "    \"\"\"\n",
        "    return function.series(x,x0,n).removeO()"
      ],
      "execution_count": 32,
      "outputs": []
    },
    {
      "cell_type": "code",
      "metadata": {
        "colab": {
          "base_uri": "https://localhost:8080/"
        },
        "id": "augWbRv-ez5b",
        "outputId": "b500bd4c-ef5c-4356-a599-90b0f85a042a"
      },
      "source": [
        "print('cos(x) ≅', taylor(cos(x), 0, 10))\n",
        "\n",
        "print('e(x) ≅', taylor(exp(x), 0, 8))"
      ],
      "execution_count": 33,
      "outputs": [
        {
          "output_type": "stream",
          "name": "stdout",
          "text": [
            "cos(x) ≅ x**8/40320 - x**6/720 + x**4/24 - x**2/2 + 1\n",
            "e(x) ≅ x**7/5040 + x**6/720 + x**5/120 + x**4/24 + x**3/6 + x**2/2 + x + 1\n"
          ]
        }
      ]
    },
    {
      "cell_type": "code",
      "metadata": {
        "colab": {
          "base_uri": "https://localhost:8080/"
        },
        "id": "_Y8FSrb9OpXo",
        "outputId": "d3c98f83-36bc-4ba7-d905-252627cbaf9d"
      },
      "source": [
        "print('cos(1) =', taylor(cos(x), 0, 4).subs(x,1))\n",
        "\n",
        "print('e(1) =', taylor(exp(x), 0, 4).subs(x,1))"
      ],
      "execution_count": 34,
      "outputs": [
        {
          "output_type": "stream",
          "name": "stdout",
          "text": [
            "cos(1) = 1/2\n",
            "e(1) = 8/3\n"
          ]
        }
      ]
    },
    {
      "cell_type": "code",
      "metadata": {
        "colab": {
          "base_uri": "https://localhost:8080/"
        },
        "id": "w6CJwHF9OwK5",
        "outputId": "288b3018-631e-4fd7-bd85-a4e660777318"
      },
      "source": [
        "print('Taylor 0 exp(x) ≅', taylor(exp(x), 0, 0))\n",
        "print('Taylor 1 exp(x) ≅', taylor(exp(x), 0, 1))\n",
        "print('Taylor 2 exp(x) ≅', taylor(exp(x), 0, 2))\n",
        "print('Taylor 3 exp(x) ≅', taylor(exp(x), 0, 3))\n",
        "print('Taylor 4 exp(x) ≅', taylor(exp(x), 0, 4))\n",
        "print('Taylor 5 exp(x) ≅', taylor(exp(x), 0, 5))\n",
        "print('Taylor 6 exp(x) ≅', taylor(exp(x), 0, 6))\n",
        "print('Taylor 7 exp(x) ≅', taylor(exp(x), 0, 7))\n",
        "print('Taylor 8 exp(x) ≅', taylor(exp(x), 0, 8))"
      ],
      "execution_count": 35,
      "outputs": [
        {
          "output_type": "stream",
          "name": "stdout",
          "text": [
            "Taylor 0 exp(x) ≅ 0\n",
            "Taylor 1 exp(x) ≅ 1\n",
            "Taylor 2 exp(x) ≅ x + 1\n",
            "Taylor 3 exp(x) ≅ x**2/2 + x + 1\n",
            "Taylor 4 exp(x) ≅ x**3/6 + x**2/2 + x + 1\n",
            "Taylor 5 exp(x) ≅ x**4/24 + x**3/6 + x**2/2 + x + 1\n",
            "Taylor 6 exp(x) ≅ x**5/120 + x**4/24 + x**3/6 + x**2/2 + x + 1\n",
            "Taylor 7 exp(x) ≅ x**6/720 + x**5/120 + x**4/24 + x**3/6 + x**2/2 + x + 1\n",
            "Taylor 8 exp(x) ≅ x**7/5040 + x**6/720 + x**5/120 + x**4/24 + x**3/6 + x**2/2 + x + 1\n"
          ]
        }
      ]
    },
    {
      "cell_type": "code",
      "metadata": {
        "colab": {
          "base_uri": "https://localhost:8080/"
        },
        "id": "oWh7ygDdOzGA",
        "outputId": "206b4263-ba58-4d41-c8ff-9a8939d40a43"
      },
      "source": [
        "print('Taylor 0 exp(x) ≅', taylor(cos(x), 0, 0).subs(x,2),' = ',taylor(cos(x), 0, 0).subs(x,2).evalf())\n",
        "print('Taylor 1 exp(x) ≅', taylor(cos(x), 0, 1).subs(x,2),' = ',taylor(exp(x), 0, 1).subs(x,2).evalf())\n",
        "print('Taylor 2 exp(x) ≅', taylor(exp(x), 0, 2).subs(x,2),' = ',taylor(exp(x), 0, 2).subs(x,2).evalf())\n",
        "print('Taylor 3 exp(x) ≅', taylor(exp(x), 0, 3).subs(x,2),' = ',taylor(exp(x), 0, 3).subs(x,2).evalf())\n",
        "print('Taylor 4 exp(x) ≅', taylor(exp(x), 0, 4).subs(x,2),' = ',taylor(exp(x), 0, 4).subs(x,2).evalf())\n",
        "print('Taylor 5 exp(x) ≅', taylor(exp(x), 0, 5).subs(x,2),' = ',taylor(exp(x), 0, 5).subs(x,2).evalf())\n",
        "print('Taylor 6 exp(x) ≅', taylor(exp(x), 0, 6).subs(x,2),' = ',taylor(exp(x), 0, 6).subs(x,2).evalf())\n",
        "print('Taylor 7 exp(x) ≅', taylor(exp(x), 0, 8).subs(x,2),' = ',taylor(exp(x), 0, 7).subs(x,2).evalf())"
      ],
      "execution_count": 36,
      "outputs": [
        {
          "output_type": "stream",
          "name": "stdout",
          "text": [
            "Taylor 0 exp(x) ≅ 0  =  0\n",
            "Taylor 1 exp(x) ≅ 1  =  1.00000000000000\n",
            "Taylor 2 exp(x) ≅ 3  =  3.00000000000000\n",
            "Taylor 3 exp(x) ≅ 5  =  5.00000000000000\n",
            "Taylor 4 exp(x) ≅ 19/3  =  6.33333333333333\n",
            "Taylor 5 exp(x) ≅ 7  =  7.00000000000000\n",
            "Taylor 6 exp(x) ≅ 109/15  =  7.26666666666667\n",
            "Taylor 7 exp(x) ≅ 155/21  =  7.35555555555556\n"
          ]
        }
      ]
    },
    {
      "cell_type": "code",
      "metadata": {
        "colab": {
          "base_uri": "https://localhost:8080/"
        },
        "id": "PPTGrYsQO13I",
        "outputId": "f39774c6-ef40-46ef-e1c5-1316a65947ee"
      },
      "source": [
        "import math\n",
        "print('sympy exp(x)subs(x,2) =', exp(x).subs(x,2))\n",
        "print('sympy exp(x).subs(x,2).evalf() =', exp(x).subs(x,2).evalf())\n",
        "print('math.exp(2) =', math.exp(2))"
      ],
      "execution_count": 37,
      "outputs": [
        {
          "output_type": "stream",
          "name": "stdout",
          "text": [
            "sympy exp(x)subs(x,2) = exp(2)\n",
            "sympy exp(x).subs(x,2).evalf() = 7.38905609893065\n",
            "math.exp(2) = 7.38905609893065\n"
          ]
        }
      ]
    },
    {
      "cell_type": "code",
      "metadata": {
        "colab": {
          "base_uri": "https://localhost:8080/",
          "height": 265
        },
        "id": "wdsZS37TO4VR",
        "outputId": "a5d7baf3-57d5-4f94-b5c5-0cb65125bc50"
      },
      "source": [
        "import math\n",
        "import numpy as np\n",
        "import matplotlib.pyplot as plt\n",
        "# if using a Jupyter notebook, include:\n",
        "%matplotlib inline\n",
        "\n",
        "values = np.arange(-5,5,0.1)\n",
        "p_exp = np.exp(values)\n",
        "t_exp1 = [taylor(exp(x), 0, 1).subs(x,v) for v in values]\n",
        "legends = ['exp() ','Taylor 0 (constant)']\n",
        "\n",
        "fig, ax = plt.subplots()\n",
        "ax.plot(values,p_exp, color ='red')\n",
        "ax.plot(values,t_exp1)\n",
        "\n",
        "ax.set_ylim([-5,5])\n",
        "ax.axhline(y=0.0, xmin=-5.0, xmax=5.0, color='black')\n",
        "ax.axvline(x=0.0, ymin=-10.0, ymax=10.0, color='black')\n",
        "ax.legend(legends)\n",
        "\n",
        "plt.show()"
      ],
      "execution_count": 38,
      "outputs": [
        {
          "output_type": "display_data",
          "data": {
            "image/png": "[encoded data removed]",
            "text/plain": [
              "<Figure size 432x288 with 1 Axes>"
            ]
          },
          "metadata": {
            "needs_background": "light"
          }
        }
      ]
    },
    {
      "cell_type": "code",
      "metadata": {
        "colab": {
          "base_uri": "https://localhost:8080/",
          "height": 265
        },
        "id": "XvqxBhg8O7Oi",
        "outputId": "14227509-a3ac-4963-dcb0-5418e4548c4f"
      },
      "source": [
        "import math\n",
        "import numpy as np\n",
        "import matplotlib.pyplot as plt\n",
        "# if using a Jupyter notebook, include:\n",
        "%matplotlib inline\n",
        "\n",
        "values = np.arange(-5,5,0.1)\n",
        "p_exp = np.exp(values)\n",
        "t_exp2 = [taylor(exp(x), 0, 2).subs(x,v) for v in values]\n",
        "legends = ['exp() ','Taylor 1 (linear)']\n",
        "\n",
        "fig, ax = plt.subplots()\n",
        "ax.plot(values,p_exp, color ='red')\n",
        "ax.plot(values,t_exp2)\n",
        "\n",
        "ax.set_ylim([-5,5])\n",
        "ax.axhline(y=0.0, xmin=-5.0, xmax=5.0, color='black')\n",
        "ax.axvline(x=0.0, ymin=-10.0, ymax=10.0, color='black')\n",
        "ax.legend(legends)\n",
        "\n",
        "plt.show()"
      ],
      "execution_count": 39,
      "outputs": [
        {
          "output_type": "display_data",
          "data": {
            "image/png": "[encoded data removed]",
            "text/plain": [
              "<Figure size 432x288 with 1 Axes>"
            ]
          },
          "metadata": {
            "needs_background": "light"
          }
        }
      ]
    },
    {
      "cell_type": "code",
      "metadata": {
        "colab": {
          "base_uri": "https://localhost:8080/",
          "height": 265
        },
        "id": "PLR1O9HUPFwg",
        "outputId": "7bd9d11a-fbfc-4b2b-a5fa-78a8e182daef"
      },
      "source": [
        "import math\n",
        "import numpy as np\n",
        "import matplotlib.pyplot as plt\n",
        "# if using a Jupyter notebook, include:\n",
        "%matplotlib inline\n",
        "\n",
        "values = np.arange(-5,5,0.1)\n",
        "p_exp = np.exp(values)\n",
        "t_exp3 = [taylor(exp(x), 0, 3).subs(x,v) for v in values]\n",
        "legends = ['exp() ','Taylor 2 (quadratic)']\n",
        "\n",
        "fig, ax = plt.subplots()\n",
        "ax.plot(values,p_exp, color ='red')\n",
        "ax.plot(values,t_exp3)\n",
        "\n",
        "ax.set_ylim([-5,5])\n",
        "ax.axhline(y=0.0, xmin=-5.0, xmax=5.0, color='black')\n",
        "ax.axvline(x=0.0, ymin=-10.0, ymax=10.0, color='black')\n",
        "ax.legend(legends)\n",
        "\n",
        "plt.show()"
      ],
      "execution_count": 40,
      "outputs": [
        {
          "output_type": "display_data",
          "data": {
            "image/png": "[encoded data removed]",
            "text/plain": [
              "<Figure size 432x288 with 1 Axes>"
            ]
          },
          "metadata": {
            "needs_background": "light"
          }
        }
      ]
    },
    {
      "cell_type": "code",
      "metadata": {
        "colab": {
          "base_uri": "https://localhost:8080/",
          "height": 265
        },
        "id": "Z9AEeR_BPJCA",
        "outputId": "fdb9612c-f2f2-4249-a14c-26bd35d7dcb9"
      },
      "source": [
        "import math\n",
        "import numpy as np\n",
        "import matplotlib.pyplot as plt\n",
        "# if using a Jupyter notebook, include:\n",
        "%matplotlib inline\n",
        "\n",
        "values = np.arange(-5,5,0.1)\n",
        "p_exp = np.exp(values)\n",
        "t_exp4 = [taylor(exp(x), 0, 4).subs(x,v) for v in values]\n",
        "legends = ['exp() ','Taylor 3 (cubic)']\n",
        "\n",
        "fig, ax = plt.subplots()\n",
        "ax.plot(values,p_exp, color ='red')\n",
        "ax.plot(values,t_exp4)\n",
        "\n",
        "ax.set_ylim([-5,5])\n",
        "ax.axhline(y=0.0, xmin=-5.0, xmax=5.0, color='black')\n",
        "ax.axvline(x=0.0, ymin=-10.0, ymax=10.0, color='black')\n",
        "ax.legend(legends)\n",
        "\n",
        "plt.show()"
      ],
      "execution_count": 41,
      "outputs": [
        {
          "output_type": "display_data",
          "data": {
            "image/png": "[encoded data removed]",
            "text/plain": [
              "<Figure size 432x288 with 1 Axes>"
            ]
          },
          "metadata": {
            "needs_background": "light"
          }
        }
      ]
    },
    {
      "cell_type": "code",
      "metadata": {
        "id": "vLO9icMdPMmg",
        "colab": {
          "base_uri": "https://localhost:8080/",
          "height": 265
        },
        "outputId": "27a6c3ab-bdb4-41bf-97b7-a44a02e3febe"
      },
      "source": [
        "import math\n",
        "import numpy as np\n",
        "import matplotlib.pyplot as plt\n",
        "# if using a Jupyter notebook, include:\n",
        "%matplotlib inline\n",
        "\n",
        "values = np.arange(-5,5,0.1)\n",
        "p_exp = np.exp(values)\n",
        "t_exp1 = [taylor(exp(x), 0, 1).subs(x,v) for v in values]\n",
        "t_exp2 = [taylor(exp(x), 0, 2).subs(x,v) for v in values]\n",
        "t_exp3 = [taylor(exp(x), 0, 3).subs(x,v) for v in values]\n",
        "t_exp4 = [taylor(exp(x), 0, 4).subs(x,v) for v in values]\n",
        "legends = ['exp() ','Taylor 0 (constant)','Taylor 1 (linear)','Taylor 2 (quadratic)','Taylor 3 (cubic)']\n",
        "\n",
        "fig, ax = plt.subplots()\n",
        "ax.plot(values,p_exp)\n",
        "ax.plot(values,t_exp1)\n",
        "ax.plot(values,t_exp2)\n",
        "ax.plot(values,t_exp3)\n",
        "ax.plot(values,t_exp4)\n",
        "\n",
        "ax.set_ylim([-5,5])\n",
        "ax.axhline(y=0.0, xmin=-5.0, xmax=5.0, color='black')\n",
        "ax.axvline(x=0.0, ymin=-10.0, ymax=10.0, color='black')\n",
        "ax.legend(legends)\n",
        "\n",
        "plt.show()"
      ],
      "execution_count": 42,
      "outputs": [
        {
          "output_type": "display_data",
          "data": {
            "image/png": "[encoded data removed]",
            "text/plain": [
              "<Figure size 432x288 with 1 Axes>"
            ]
          },
          "metadata": {
            "needs_background": "light"
          }
        }
      ]
    }
  ]
}